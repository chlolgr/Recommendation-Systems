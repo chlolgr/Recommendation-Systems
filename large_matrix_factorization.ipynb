{
 "cells": [
  {
   "cell_type": "markdown",
   "metadata": {},
   "source": [
    "# Large Matrix Factorization on the MovieLens Dataset\n",
    "\n",
    "This time we'll be using the latest MovieLens dataset, which contains about 300k users, 50k movies, and 28M ratings. That's obviously a LOT larger than the 100k dataset, so we've adapted the code a bit.\n",
    "\n",
    "The completed matrix would be of shape (300k,50k), which amounts to 15B cells. That will OBVIOUSLY not fit in memory, so it's important to make our predictions one at a time, and save them in some text file. "
   ]
  },
  {
   "cell_type": "markdown",
   "metadata": {},
   "source": [
    "## Importing the Data\n",
    "\n",
    "Instead of building a sparse matrix (which is not ultimately necessary to do matrix factorization), we're simply importing arrays of users, movies, and ratings. These arrays have the same length, and for any index i, \n",
    "    \n",
    "    users[i] has given movies[i] a note of ratings[i]"
   ]
  },
  {
   "cell_type": "code",
   "execution_count": 62,
   "metadata": {},
   "outputs": [
    {
     "name": "stdout",
     "output_type": "stream",
     "text": [
      "Number of users: 283228\n",
      "Number of movies: 53889\n",
      "Number of ratings: 27753444\n",
      "Data loaded in 59.03 seconds\n"
     ]
    }
   ],
   "source": [
    "import time\n",
    "import numpy as np\n",
    "import pickle as pkl\n",
    "\n",
    "start = time.time()\n",
    "\n",
    "filename = 'ml-latest/ratings.csv'\n",
    "data_file = open(filename,'r')\n",
    "\n",
    "users,movies,ratings = list(),list(),list()\n",
    "for line in data_file.readlines():\n",
    "    line = line.split(',')\n",
    "    users.append(line[0])\n",
    "    movies.append(line[1])\n",
    "    ratings.append(line[2])\n",
    "\n",
    "users = np.array(users).astype(int)\n",
    "movies = np.array(movies).astype(int)\n",
    "ratings = np.array(ratings).astype(float)\n",
    "    \n",
    "unique_users = np.unique(users)\n",
    "unique_movies = np.unique(movies)\n",
    "    \n",
    "n = len(unique_users)\n",
    "m = len(unique_movies)\n",
    "\n",
    "user_to_id = dict(zip(unique_users,range(n)))\n",
    "id_to_user = dict(zip(range(n),unique_users))\n",
    "movie_to_id = dict(zip(unique_movies,range(m)))\n",
    "id_to_movie = dict(zip(range(m),unique_movies))\n",
    "    \n",
    "print('Number of users:',n)\n",
    "print('Number of movies:',m)\n",
    "print('Number of ratings:',len(ratings))\n",
    "print('Data loaded in',np.round(time.time()-start,2),'seconds')"
   ]
  },
  {
   "cell_type": "markdown",
   "metadata": {},
   "source": [
    "### Dividing into Training / Testing Data\n",
    "\n",
    "We could just divide our data into two groups by picking an index and splitting each array into two at that index, but the users and movies being in numerical order, that would mean we would completely ignore information about the last users in our dataset, and that would harm our predictions for them. \n",
    "\n",
    "So instead what we're doing is picking n_train indices at random, adding them to the training set, and then using all the remaining indices for testing. \n",
    "\n",
    "When you actually use matrix factorization, you can disregard this step as you'll want to use all your data to train your model. This is just so we can tune our parameters. "
   ]
  },
  {
   "cell_type": "code",
   "execution_count": 63,
   "metadata": {},
   "outputs": [
    {
     "name": "stdout",
     "output_type": "stream",
     "text": [
      "22202755 training samples ready\n",
      "5550689 testing samples ready\n",
      "Train / test division made in 7.03 seconds\n"
     ]
    }
   ],
   "source": [
    "start = time.time()\n",
    "\n",
    "# split: proportion of the data used for training\n",
    "# split = .8 means we use 80% of the data for training\n",
    "split = .8\n",
    "\n",
    "n_train = int(len(ratings)*split)\n",
    "all_indices = np.arange(len(ratings))\n",
    "# It's important to make our choice of learning data random.\n",
    "# If we just split it with no shuffle, we'll be completely ignoring certain users and items.\n",
    "train_indices = np.random.choice(all_indices,n_train,replace=False)\n",
    "test_indices = np.setdiff1d(all_indices,train_indices)\n",
    "\n",
    "print(len(train_indices),'training samples ready')\n",
    "print(len(test_indices),'testing samples ready')\n",
    "print('Train / test division made in',np.round(time.time()-start,2),'seconds')"
   ]
  },
  {
   "cell_type": "markdown",
   "metadata": {},
   "source": [
    "## Normalization: Global Average\n",
    "\n",
    "We're going to try and center our data to 0, which always makes it easier for models to fit the data. "
   ]
  },
  {
   "cell_type": "code",
   "execution_count": 64,
   "metadata": {},
   "outputs": [
    {
     "name": "stdout",
     "output_type": "stream",
     "text": [
      "Data normalized in 0.07 seconds\n"
     ]
    }
   ],
   "source": [
    "start = time.time()\n",
    "average_rating = np.mean(ratings)\n",
    "normalized_ratings = ratings - average_rating\n",
    "print('Data normalized in',np.round(time.time()-start,2),'seconds')"
   ]
  },
  {
   "cell_type": "markdown",
   "metadata": {},
   "source": [
    "## Initialization and Metric Definition\n",
    "\n",
    "The initialization is pretty standard: we build random matrices for our latent representations of users and movies, and random vectors for our user and movie biases. \n",
    "\n",
    "I've chosen to use the mean absolute error to print out, only because it's just so much easier to interpret. In the calculations though, I use the MSE to train the model. We're going to measure the train and test error at each iteration (which we won't do once the model is actually running), so it's important to know how long it takes to compute, so we can make an estimate of how much time our model will take once it's trained and running without measuring its own error."
   ]
  },
  {
   "cell_type": "code",
   "execution_count": 65,
   "metadata": {},
   "outputs": [
    {
     "name": "stdout",
     "output_type": "stream",
     "text": [
      "Time to initiate matrices and bias vectors: 0.03 seconds\n",
      "Time to calculate train error: 58.13 seconds\n",
      "Time to calculate test error: 12.36 seconds\n"
     ]
    }
   ],
   "source": [
    "# matrices and vectors used for factorization initialized randomly\n",
    "K = 3\n",
    "start = time.time()\n",
    "p = np.random.rand(n,K)\n",
    "q = np.random.rand(m,K)\n",
    "user_bias = np.random.rand(n)\n",
    "movie_bias = np.random.rand(m)\n",
    "print('Time to initiate matrices and bias vectors:',np.round(time.time()-start,2),'seconds')\n",
    "\n",
    "def mean_absolute_error(indices):\n",
    "    error = 0\n",
    "    for i in indices:\n",
    "        user = user_to_id[users[i]]\n",
    "        movie = movie_to_id[movies[i]]\n",
    "        # leaving out the average rating because it doesn't change our error\n",
    "        error += abs(normalized_ratings[i] - (np.dot(p[user],q[movie])+user_bias[user]+movie_bias[movie]))\n",
    "    return error/len(indices)\n",
    "\n",
    "start = time.time()\n",
    "error_train = mean_absolute_error(train_indices)\n",
    "print('Time to calculate train error:',np.round(time.time()-start,2),'seconds')\n",
    "\n",
    "start = time.time()\n",
    "error_test = mean_absolute_error(test_indices)\n",
    "print('Time to calculate test error:',np.round(time.time()-start,2),'seconds')"
   ]
  },
  {
   "cell_type": "markdown",
   "metadata": {},
   "source": [
    "## Training the Model\n",
    "\n",
    "This is where the magic happens.\n",
    "\n",
    "We're training on the normalized data, which has had the average rating removed, and is thus centered around 0. We are learning our matrices as well as the user and movie biases. The updating equations are derived from the MSE gradient. \n",
    "\n",
    "Remember we're computing and saving the error at each iteration, which takes a significant amount of time and will not be happening once the model is running. \n",
    "\n",
    "The bigger K gets, the longer iterations will run for, so I would suggest keeping it under 10. We can obtain some pretty accurate predictions with low values, as they also prevent overfitting. "
   ]
  },
  {
   "cell_type": "code",
   "execution_count": 66,
   "metadata": {},
   "outputs": [
    {
     "name": "stdout",
     "output_type": "stream",
     "text": [
      "\n",
      "Mean absolute error at iteration 0: (time = 0.00023555755615234375 )\n",
      "\tTrain: 1.7993910620610978 \tTest: 1.7988811835030432\n",
      "\n",
      "Mean absolute error at iteration 1: (time = 386.4166028499603 )\n",
      "\tTrain: 0.6718306089662365 \tTest: 0.6775945743257356\n",
      "\n",
      "Mean absolute error at iteration 2: (time = 759.9310350418091 )\n",
      "\tTrain: 0.6558112618601198 \tTest: 0.6639152982489344\n"
     ]
    },
    {
     "data": {
      "image/png": "[encoded data removed]",
      "text/plain": [
       "<matplotlib.figure.Figure at 0x7fd5197d7f98>"
      ]
     },
     "metadata": {
      "needs_background": "light"
     },
     "output_type": "display_data"
    }
   ],
   "source": [
    "import matplotlib.pyplot as plt\n",
    "%matplotlib inline\n",
    "\n",
    "################################################\n",
    "################## PARAMETERS ##################\n",
    "################################################\n",
    "\n",
    "# alpha: learning rate\n",
    "# show_every: number of iterations between 2 prints of the error\n",
    "# error_threshold: stop the loop if the test_error goes under that threshold\n",
    "# max_time: stop the loop if it's been running for longer than that time (in seconds)\n",
    "# beta: regularization coefficient\n",
    "alpha = .01\n",
    "show_every = 1\n",
    "error_threshold = .1\n",
    "max_time = 900\n",
    "beta = .1\n",
    "\n",
    "\n",
    "#################################################\n",
    "################# TRAINING LOOP #################\n",
    "#################################################\n",
    "\n",
    "# saving errors so we can plot them\n",
    "train_errors = [error_train]\n",
    "test_errors = [error_test]\n",
    "\n",
    "start = time.time()\n",
    "iter=0\n",
    "\n",
    "while error_test > error_threshold and time.time()-start<max_time:\n",
    "    # To see error at each iteration, uncomment:\n",
    "    if iter%show_every==0:\n",
    "        print('\\nMean absolute error at iteration',str(iter)+': (time =',time.time()-start,')') \n",
    "        print('\\tTrain:',error_train,'\\tTest:',error_test)\n",
    "    iter+=1\n",
    "    for i in train_indices: \n",
    "        user = user_to_id[users[i]]\n",
    "        movie = movie_to_id[movies[i]]\n",
    "        local_error = normalized_ratings[i] - (np.dot(p[user],q[movie]) + user_bias[user] + movie_bias[movie])\n",
    "        p[user] += alpha*(2*local_error*q[movie] - beta*p[user])\n",
    "        q[movie] += alpha*(2*local_error*p[user] - beta*q[movie])\n",
    "        user_bias[user] += alpha*(2*local_error - beta*user_bias[user])\n",
    "        movie_bias[movie] += alpha*(2*local_error - beta*movie_bias[movie])\n",
    "    error_train = mean_absolute_error(train_indices)\n",
    "    error_test = mean_absolute_error(test_indices)\n",
    "    train_errors.append(error_train)\n",
    "    test_errors.append(error_test)\n",
    "    \n",
    "    \n",
    "################################################\n",
    "################### PLOTTING ###################\n",
    "################################################\n",
    "\n",
    "x = range(len(train_errors))\n",
    "plt.plot(x,train_errors,label='train')\n",
    "plt.plot(x,test_errors,label='test')\n",
    "plt.legend()\n",
    "plt.title('Train and Test Errors')\n",
    "plt.xlabel('update')\n",
    "plt.ylabel('mean absolute error')\n",
    "plt.show()"
   ]
  },
  {
   "cell_type": "markdown",
   "metadata": {},
   "source": [
    "## Statistics on Error\n",
    "\n",
    "Next thing we're gonna do is look at what error our model makes. The idea is to study the distribution to know a little more about the 'risks' we're taking using this model. "
   ]
  },
  {
   "cell_type": "code",
   "execution_count": 67,
   "metadata": {},
   "outputs": [
    {
     "data": {
      "image/png": "[encoded data removed]",
      "text/plain": [
       "<matplotlib.figure.Figure at 0x7fd532fc5cc0>"
      ]
     },
     "metadata": {
      "needs_background": "light"
     },
     "output_type": "display_data"
    }
   ],
   "source": [
    "errors = list()\n",
    "for i in test_indices: \n",
    "    user = user_to_id[users[i]]\n",
    "    movie = movie_to_id[movies[i]]\n",
    "    prediction = np.dot(p[user],q[movie])\n",
    "    prediction += user_bias[user] + movie_bias[movie]\n",
    "    prediction += average_rating\n",
    "    errors.append(ratings[i] - prediction)\n",
    "    \n",
    "hist = plt.hist(np.array(errors),bins=np.arange(-5,5.5,.5))\n",
    "plt.title('Distribution of Error over our Test Samples\\n(Negative error means we overestimated the rating, positive means underestimation.)')\n",
    "plt.xlabel('error')\n",
    "plt.ylabel('number of test samples')\n",
    "plt.xticks(np.arange(-5,6,1))\n",
    "plt.show()"
   ]
  },
  {
   "cell_type": "code",
   "execution_count": 68,
   "metadata": {},
   "outputs": [
    {
     "data": {
      "image/png": "[encoded data removed]",
      "text/plain": [
       "<matplotlib.figure.Figure at 0x7fd533055320>"
      ]
     },
     "metadata": {
      "needs_background": "light"
     },
     "output_type": "display_data"
    },
    {
     "name": "stdout",
     "output_type": "stream",
     "text": [
      "There is a 66.3 % chance of getting an absolute error <= 0.5\n",
      "There is a 86.2 % chance of getting an absolute error <= 1\n",
      "There is a 94.0 % chance of getting an absolute error <= 1.5\n",
      "There is a 97.3 % chance of getting an absolute error <= 2\n"
     ]
    }
   ],
   "source": [
    "distribution = hist[0]\n",
    "distribution /= sum(distribution)\n",
    "\n",
    "plt.bar(np.arange(-4.75,5,.5),distribution)\n",
    "plt.title('Probability Distribution of Error over our Test Samples')\n",
    "plt.xlabel('error')\n",
    "plt.ylabel('probability')\n",
    "plt.xticks(np.arange(-5,6,1))\n",
    "plt.show()\n",
    "\n",
    "rating_to_id = dict(zip(hist[1],range(len(hist[1]))))\n",
    "id_to_rating = dict(zip(range(len(hist[1])),hist[1]))\n",
    "\n",
    "# returns probability that our error is between -abs_rating and abs_rating\n",
    "def abs_proba(abs_rating):\n",
    "    interval = np.arange(-abs_rating,abs_rating+.1,.5)\n",
    "    return sum([distribution[rating_to_id[rating]] for rating in interval])\n",
    "\n",
    "for abs_error in [.5,1,1.5,2]:\n",
    "    proba = np.round(abs_proba(abs_error)*100,1)\n",
    "    print('There is a',proba,'% chance of getting an absolute error <=',abs_error)"
   ]
  }
 ],
 "metadata": {
  "kernelspec": {
   "display_name": "Python 3",
   "language": "python",
   "name": "python3"
  },
  "language_info": {
   "codemirror_mode": {
    "name": "ipython",
    "version": 3
   },
   "file_extension": ".py",
   "mimetype": "text/x-python",
   "name": "python",
   "nbconvert_exporter": "python",
   "pygments_lexer": "ipython3",
   "version": "3.5.2"
  }
 },
 "nbformat": 4,
 "nbformat_minor": 2
}
