{
 "cells": [
  {
   "cell_type": "markdown",
   "metadata": {},
   "source": [
    "# Experimenting with Matrix Factorization and the MovieLens Dataset\n",
    "\n",
    "This notebook will allow you to experiment with the parameters of matrix factorization with the MovieLens dataset. I'm using the 100k dataset, and storing it in a sparse matrix. \n",
    "\n",
    "We're going to differentiate training and testing errors. Our main goal here has to be avoiding overfitting, so we want a testing error as close to the training error as we can get it. With a large number of latent features, it is very possible to get a very low training error. However, that will negatively impact our testing error, and since our model's performance on items a user has already rated is of absolutely no interest to us, let's just go ahead and prioritize our testing error like never before. "
   ]
  },
  {
   "cell_type": "markdown",
   "metadata": {},
   "source": [
    "## Matrix Factorization"
   ]
  },
  {
   "cell_type": "code",
   "execution_count": 139,
   "metadata": {},
   "outputs": [
    {
     "name": "stdout",
     "output_type": "stream",
     "text": [
      "Number of users: 943\n",
      "Number of movies: 1682\n",
      "Number of ratings: 100000\n"
     ]
    }
   ],
   "source": [
    "import numpy as np\n",
    "from scipy.sparse import lil_matrix\n",
    "import time\n",
    "import matplotlib.pyplot as plt\n",
    "%matplotlib inline\n",
    "\n",
    "data_file = 'ml-100k/u.data'\n",
    "data_file = open(data_file,'r')\n",
    "users,movies = list(),list()\n",
    "\n",
    "for line in data_file.readlines():\n",
    "    line = line.split()\n",
    "    user = int(line[0])\n",
    "    movie = int(line[1])\n",
    "    users.append(user)\n",
    "    movies.append(movie)\n",
    "\n",
    "users = np.unique(users)\n",
    "movies = np.unique(movies)\n",
    "print('Number of users:',len(users))\n",
    "print('Number of movies:',len(movies))\n",
    "\n",
    "# fair warning: we're not gonna use those a lot\n",
    "# it's good to have them though\n",
    "user_to_id = dict(zip(users,range(len(users))))\n",
    "movie_to_id = dict(zip(movies,range(len(movies))))\n",
    "id_to_user = dict(zip(range(len(users)),users))\n",
    "id_to_movie = dict(zip(range(len(movies)),movies))\n",
    "\n",
    "data = lil_matrix((len(users),len(movies)))\n",
    "\n",
    "data_file = 'ml-100k/u.data'\n",
    "data_file = open(data_file,'r')\n",
    "for line in data_file.readlines():\n",
    "    line = line.split()\n",
    "    user = user_to_id[int(line[0])]\n",
    "    movie = movie_to_id[int(line[1])]\n",
    "    rating = int(line[2])\n",
    "    data[user,movie] = rating\n",
    "    \n",
    "print('Number of ratings:',data.nnz)"
   ]
  },
  {
   "cell_type": "markdown",
   "metadata": {},
   "source": [
    "### Parameters to optimize:\n",
    "\n",
    "- K = number of latent features\n",
    "- lr = learning rate\n",
    "- error_threshold = absolute point you're willing to have as an error on your values\n",
    "    (A threshold of 0.5 means you think getting a rating wrong by 0.5 points is acceptable.)\n",
    "- split = proportion of the data you'll use for training\n",
    "- max_time = a variation of max_iters (number of seconds the loop is allowed to run for)\n",
    "\n",
    "I use the mean absolute error as the error can be positive or negative, and the absolute value is easier to visualize than the mean square error. "
   ]
  },
  {
   "cell_type": "code",
   "execution_count": 132,
   "metadata": {
    "scrolled": true
   },
   "outputs": [
    {
     "name": "stdout",
     "output_type": "stream",
     "text": [
      "\n",
      "Mean absolute error at iteration 0: (time = 0.00023221969604492188 )\n",
      "\tTrain: 1.6647109156610298 \tTest: 1.6475457011955674\n",
      "\n",
      "Mean absolute error at iteration 5: (time = 23.970256805419922 )\n",
      "\tTrain: 0.635794894787407 \tTest: 0.8052217899582247\n",
      "\n",
      "Mean absolute error at iteration 10: (time = 46.31491017341614 )\n",
      "\tTrain: 0.5540249224291052 \tTest: 0.8405367299008114\n",
      "\n",
      "Mean absolute error at iteration 15: (time = 68.30732417106628 )\n",
      "\tTrain: 0.5155527794994433 \tTest: 0.8680937449170886\n",
      "\n",
      "Mean absolute error at iteration 20: (time = 92.89574718475342 )\n",
      "\tTrain: 0.49479764448363833 \tTest: 0.8887124591523933\n",
      "\n",
      "Mean absolute error at iteration 25: (time = 116.90063095092773 )\n",
      "\tTrain: 0.48200133016035623 \tTest: 0.9058279562951993\n"
     ]
    },
    {
     "data": {
      "image/png": "[encoded data removed]",
      "text/plain": [
       "<matplotlib.figure.Figure at 0x7f4582b9d908>"
      ]
     },
     "metadata": {
      "needs_background": "light"
     },
     "output_type": "display_data"
    }
   ],
   "source": [
    "n = len(users)\n",
    "m = len(movies)\n",
    "K = 20\n",
    "# If you raise the learning rate too much you'll get overflow errors.\n",
    "#   -> I'd leave it at .01.\n",
    "lr = .01\n",
    "show_every = 5\n",
    "error_threshold = .1\n",
    "split = .8\n",
    "max_time = 120\n",
    "\n",
    "# matrices used for factorization initialized randomly\n",
    "p = np.random.rand(n,K)\n",
    "q = np.random.rand(m,K)\n",
    "\n",
    "# entries = cells that contain a value in our data matrix\n",
    "entries = list(zip(*data.nonzero()))\n",
    "n_train = int(len(entries)*split)\n",
    "all_indices = np.arange(len(entries))\n",
    "train_indices = np.random.choice(all_indices,n_train,replace=False)\n",
    "train_entries = [entries[i] for i in train_indices]\n",
    "test_indices = np.setdiff1d(all_indices,train_indices)\n",
    "test_entries = [entries[i] for i in test_indices]\n",
    "\n",
    "# r = matrix with actual values (here = data)\n",
    "# local_entries: so we can decide which entries to give \n",
    "#     -> differentiate learning and testing errors\n",
    "def mean_absolute_error(r,p,q,local_entries):\n",
    "    error = 0\n",
    "    for (i,j) in local_entries:\n",
    "        current_error = r[i,j]\n",
    "        for k in range(K): current_error -= p[i,k]*q[j,k]\n",
    "        error += abs(current_error)\n",
    "    return error/len(local_entries)\n",
    "\n",
    "error_train = mean_absolute_error(data,p,q,train_entries)\n",
    "error_test = mean_absolute_error(data,p,q,test_entries)\n",
    "# saving errors so we can plot them (F U N)\n",
    "train_errors = [error_train]\n",
    "test_errors = [error_test]\n",
    "start = time.time()\n",
    "iter=0\n",
    "    \n",
    "    \n",
    "#################################################\n",
    "################# TRAINING LOOP #################\n",
    "#################################################\n",
    "\n",
    "while error_test > error_threshold and time.time()-start<max_time:\n",
    "    # To see error at each iteration, uncomment:\n",
    "    if iter%show_every==0:\n",
    "        print('\\nMean absolute error at iteration',str(iter)+': (time =',time.time()-start,')') \n",
    "        print('\\tTrain:',error_train,'\\tTest:',error_test)\n",
    "    iter+=1\n",
    "    for (i,j) in train_entries: \n",
    "        local_error = data[i,j] - sum([p[i,k]*q[j,k] for k in range(K)])\n",
    "        for k in range(K):\n",
    "            # updating equations = derivatives of the error per parameter\n",
    "            p[i,k] += 2*lr*local_error*q[j,k]\n",
    "            q[j,k] += 2*lr*local_error*p[i,k]\n",
    "    error_train = mean_absolute_error(data,p,q,train_entries)\n",
    "    error_test = mean_absolute_error(data,p,q,test_entries)\n",
    "    train_errors.append(error_train)\n",
    "    test_errors.append(error_test)\n",
    "    \n",
    "    \n",
    "################################################\n",
    "################### PLOTTING ###################\n",
    "################################################\n",
    "\n",
    "x = range(len(train_errors))\n",
    "plt.plot(x,train_errors,label='train')\n",
    "plt.plot(x,test_errors,label='test')\n",
    "plt.legend()\n",
    "plt.title('Train and Test Errors')\n",
    "plt.xlabel('update')\n",
    "plt.ylabel('mean absolute error')\n",
    "plt.show()"
   ]
  },
  {
   "cell_type": "markdown",
   "metadata": {},
   "source": [
    "### Regularization\n",
    "\n",
    "You can run the code above with different hyper-parameters, but generally, the over-fitting problem is going to persist with sparse matrix factorization. \n",
    "\n",
    "What we're going to do is add regularization to the iterative update of our factor matrices, to prevent the numbers from getting too big (and thus limit over-fitting). "
   ]
  },
  {
   "cell_type": "code",
   "execution_count": 131,
   "metadata": {},
   "outputs": [
    {
     "name": "stdout",
     "output_type": "stream",
     "text": [
      "\n",
      "Mean absolute error at iteration 0: (time = 0.00025177001953125 )\n",
      "\tTrain: 1.6944148454596526 \tTest: 1.6873691820830052\n",
      "\n",
      "Mean absolute error at iteration 5: (time = 27.505563497543335 )\n",
      "\tTrain: 0.6389351344069507 \tTest: 0.794700013456683\n",
      "\n",
      "Mean absolute error at iteration 10: (time = 56.206522703170776 )\n",
      "\tTrain: 0.5533617473397224 \tTest: 0.8137520559326066\n",
      "\n",
      "Mean absolute error at iteration 15: (time = 84.60753893852234 )\n",
      "\tTrain: 0.5111136289805536 \tTest: 0.8307382289153827\n",
      "\n",
      "Mean absolute error at iteration 20: (time = 115.16470432281494 )\n",
      "\tTrain: 0.4867949491501503 \tTest: 0.8436439261850939\n"
     ]
    },
    {
     "data": {
      "image/png": "[encoded data removed]",
      "text/plain": [
       "<matplotlib.figure.Figure at 0x7f458299b7b8>"
      ]
     },
     "metadata": {
      "needs_background": "light"
     },
     "output_type": "display_data"
    }
   ],
   "source": [
    "from numpy.linalg import norm\n",
    "import math\n",
    "\n",
    "n = len(users)\n",
    "m = len(movies)\n",
    "K = 20\n",
    "lr = .01\n",
    "show_every = 5\n",
    "error_threshold = .1\n",
    "split = .8\n",
    "max_time = 120\n",
    "\n",
    "# matrices used for factorization initialized randomly\n",
    "p = np.random.rand(n,K)\n",
    "q = np.random.rand(m,K)\n",
    "\n",
    "# I'm reinitializing the entries all over the place just in case you wanna run the cells in some weird order.\n",
    "# There shouldn't be a way to fuck it up but God knows computer people will Find a Way. \n",
    "entries = list(zip(*data.nonzero()))\n",
    "n_train = int(len(entries)*split)\n",
    "all_indices = np.arange(len(entries))\n",
    "train_indices = np.random.choice(all_indices,n_train,replace=False)\n",
    "train_entries = [entries[i] for i in train_indices]\n",
    "test_indices = np.setdiff1d(all_indices,train_indices)\n",
    "test_entries = [entries[i] for i in test_indices]\n",
    "\n",
    "# beta is our regularization coefficient. Like a learning rate but for regularization. Cool guy. $\n",
    "# Toy with it. The bigger it is the smaller gap there should be between learning and testing. \n",
    "# It's usually around .02 by default.\n",
    "beta = .02\n",
    "        \n",
    "error_train = mean_absolute_error(data,p,q,train_entries)\n",
    "error_test = mean_absolute_error(data,p,q,test_entries)\n",
    "train_errors = [error_train]\n",
    "test_errors = [error_test]\n",
    "iter=0\n",
    "start = time.time()\n",
    "\n",
    "\n",
    "#################################################\n",
    "################# TRAINING LOOP #################\n",
    "#################################################\n",
    "\n",
    "while error_test > error_threshold and time.time()-start<max_time:\n",
    "    # To see error at each iteration, uncomment:\n",
    "    if iter%show_every==0: \n",
    "        print('\\nMean absolute error at iteration',str(iter)+': (time =',time.time()-start,')') \n",
    "        print('\\tTrain:',error_train,'\\tTest:',error_test)\n",
    "    iter+=1\n",
    "    for (i,j) in train_entries: \n",
    "        local_error = data[i,j] - sum([p[i,k]*q[j,k] for k in range(K)])\n",
    "        for k in range(K):\n",
    "            # now this is where beta comes into play. Why? Math. That's why. Trust the system. \n",
    "            p[i,k] += lr*(2*local_error*q[j,k]-beta*p[i,k])\n",
    "            q[j,k] += lr*(2*local_error*p[i,k]-beta*q[j,k])\n",
    "    error_train = mean_absolute_error(data,p,q,train_entries)\n",
    "    error_test = mean_absolute_error(data,p,q,test_entries)\n",
    "    train_errors.append(error_train)\n",
    "    test_errors.append(error_test)\n",
    "    \n",
    "    \n",
    "################################################\n",
    "################### PLOTTING ###################\n",
    "################################################\n",
    " \n",
    "x = range(len(train_errors))\n",
    "plt.plot(x,train_errors,label='train')\n",
    "plt.plot(x,test_errors,label='test')\n",
    "plt.legend()\n",
    "plt.title('Train and Test Errors')\n",
    "plt.xlabel('update')\n",
    "plt.ylabel('mean absolute error')\n",
    "plt.show()"
   ]
  },
  {
   "cell_type": "markdown",
   "metadata": {},
   "source": [
    "So the results still aren't quite satisfactory (still 0.5 point off on average in test), but at least we've put boundaries on over-fitting. \n",
    "\n",
    "The next thing to do is introduce biases."
   ]
  },
  {
   "cell_type": "markdown",
   "metadata": {},
   "source": [
    "### Biases\n",
    "\n",
    "There are two layers of biases to add to this problem: \n",
    "   - the user bias: each user has a different average rating, which is considered to be their bias. Some users are more or less 'generous' with their ratings. \n",
    "   - the movie bias: each movie has its own average rating. Movies are 'more or less good', and sometimes two movies with the same latent features could be of very different qualities. "
   ]
  },
  {
   "cell_type": "code",
   "execution_count": 133,
   "metadata": {
    "scrolled": true
   },
   "outputs": [
    {
     "name": "stdout",
     "output_type": "stream",
     "text": [
      "Average rating: 3.52986\n",
      "Data normalized by average rating in normalized_data\n"
     ]
    }
   ],
   "source": [
    "rating_sum = data.sum()\n",
    "average_rating = rating_sum/len(entries)\n",
    "\n",
    "print(\"Average rating:\",average_rating)\n",
    "\n",
    "normalized_data = data.copy()\n",
    "for entry in entries: normalized_data[entry] -= average_rating\n",
    "# /!\\ not the same as data -= average_rating\n",
    "#     -> this will also apply it to all the empty cells of the matrix for whatever reason\n",
    "    \n",
    "print(\"Data normalized by average rating in normalized_data\")"
   ]
  },
  {
   "cell_type": "code",
   "execution_count": 188,
   "metadata": {},
   "outputs": [
    {
     "name": "stdout",
     "output_type": "stream",
     "text": [
      "\n",
      "Mean absolute error at iteration 0: (time = 0.0002970695495605469 )\n",
      "\tTrain: 6.038726102358073 \tTest: 6.011126090753465\n",
      "\n",
      "Mean absolute error at iteration 5: (time = 33.2334361076355 )\n",
      "\tTrain: 0.710953789926702 \tTest: 0.7606693034017062\n",
      "\n",
      "Mean absolute error at iteration 10: (time = 67.94253611564636 )\n",
      "\tTrain: 0.6849207010016112 \tTest: 0.741077208822015\n",
      "\n",
      "Mean absolute error at iteration 15: (time = 99.23037362098694 )\n",
      "\tTrain: 0.6648431672687555 \tTest: 0.7298086314626497\n"
     ]
    },
    {
     "data": {
      "image/png": "[encoded data removed]",
      "text/plain": [
       "<matplotlib.figure.Figure at 0x7f4582206f98>"
      ]
     },
     "metadata": {
      "needs_background": "light"
     },
     "output_type": "display_data"
    }
   ],
   "source": [
    "from numpy.linalg import norm\n",
    "import math\n",
    "\n",
    "n = len(users)\n",
    "m = len(movies)\n",
    "# parameters changed this time around with a grid search\n",
    "# K < 3 seems very low. Honestly K = 3 seems very low. But it decreases our testing error so whatev.\n",
    "K = 20\n",
    "lr = .01\n",
    "show_every = 5\n",
    "error_threshold = .1\n",
    "split = .9\n",
    "max_time = 120\n",
    "\n",
    "def updated_mean_absolute_error(r,p,q,u,m,local_entries):\n",
    "    error = 0\n",
    "    for (i,j) in local_entries:\n",
    "        current_error = r[i,j] - (u[i]+m[j])\n",
    "        for k in range(K): current_error -= p[i,k]*q[j,k]\n",
    "        error += abs(current_error)\n",
    "    return error/len(local_entries)\n",
    "\n",
    "# matrices used for factorization initialized randomly\n",
    "p = np.random.rand(n,K)\n",
    "q = np.random.rand(m,K)\n",
    "user_bias = np.random.rand(n)\n",
    "movie_bias = np.random.rand(m)\n",
    "\n",
    "# entries = cells that contain a value in our data matrix\n",
    "entries = list(zip(*data.nonzero()))\n",
    "n_train = int(len(entries)*split)\n",
    "all_indices = np.arange(len(entries))\n",
    "train_indices = np.random.choice(all_indices,n_train,replace=False)\n",
    "train_entries = [entries[i] for i in train_indices]\n",
    "test_indices = np.setdiff1d(all_indices,train_indices)\n",
    "test_entries = [entries[i] for i in test_indices]\n",
    "\n",
    "beta = .1\n",
    "        \n",
    "error_train = updated_mean_absolute_error(normalized_data,p,q,user_bias,movie_bias,train_entries)\n",
    "error_test = updated_mean_absolute_error(normalized_data,p,q,user_bias,movie_bias,test_entries)\n",
    "train_errors = [error_train]\n",
    "test_errors = [error_test]\n",
    "iter=0\n",
    "start = time.time()\n",
    "\n",
    "\n",
    "#################################################\n",
    "################# TRAINING LOOP #################\n",
    "#################################################\n",
    "\n",
    "while error_test > error_threshold and time.time()-start<max_time:\n",
    "    # To see error at each iteration, uncomment:\n",
    "    if iter%show_every==0: \n",
    "        print('\\nMean absolute error at iteration',str(iter)+': (time =',time.time()-start,')') \n",
    "        print('\\tTrain:',error_train,'\\tTest:',error_test)\n",
    "    iter+=1\n",
    "    for (i,j) in train_entries: \n",
    "        actual_value = normalized_data[i,j]\n",
    "        biases = user_bias[i] + movie_bias[j]\n",
    "        deviance = sum([p[i,k]*q[j,k] for k in range(K)])\n",
    "        local_error = actual_value - (biases+deviance)\n",
    "        for k in range(K):\n",
    "            # updating equations = derivatives of the error per parameter\n",
    "            p[i,k] += lr*(local_error*q[j,k]-beta*p[i,k])\n",
    "            q[j,k] += lr*(local_error*p[i,k]-beta*q[j,k])\n",
    "        user_bias[i] += lr*(local_error-beta*user_bias[i])\n",
    "        movie_bias[j] += lr*(local_error-beta*movie_bias[j])\n",
    "        \n",
    "    error_train = updated_mean_absolute_error(normalized_data,p,q,user_bias,movie_bias,train_entries)\n",
    "    error_test = updated_mean_absolute_error(normalized_data,p,q,user_bias,movie_bias,test_entries)\n",
    "    train_errors.append(error_train)\n",
    "    test_errors.append(error_test)\n",
    "    \n",
    "    \n",
    "################################################\n",
    "################### PLOTTING ###################\n",
    "################################################\n",
    "\n",
    "x = range(len(train_errors)-1)\n",
    "plt.plot(x,train_errors[1:],label='train')\n",
    "plt.plot(x,test_errors[1:],label='test')\n",
    "plt.legend()\n",
    "plt.title('Train and Test Errors')\n",
    "plt.xlabel('update')\n",
    "plt.ylabel('mean absolute error')\n",
    "plt.show()"
   ]
  },
  {
   "cell_type": "markdown",
   "metadata": {},
   "source": [
    "## Statistics on Error\n",
    "\n",
    "At this point, there isn't much more we can do to improve our scores. It's all resting on hyper-parameter tuning, and the quality of the data. \n",
    "\n",
    "So let's look at the statistics on our error. It will give us a better idea of how efficient our model really is. "
   ]
  },
  {
   "cell_type": "code",
   "execution_count": 189,
   "metadata": {},
   "outputs": [
    {
     "data": {
      "image/png": "[encoded data removed]",
      "text/plain": [
       "<matplotlib.figure.Figure at 0x7f457e218f98>"
      ]
     },
     "metadata": {
      "needs_background": "light"
     },
     "output_type": "display_data"
    }
   ],
   "source": [
    "errors = list()\n",
    "for user,movie in test_entries: \n",
    "    real_value = data[user,movie]\n",
    "    prediction = sum([p[user,k]*q[movie,k] for k in range(K)])\n",
    "    prediction += user_bias[user] + movie_bias[movie]\n",
    "    prediction += average_rating\n",
    "    errors.append(real_value - prediction)\n",
    "    \n",
    "hist = plt.hist(np.array(errors),bins=np.arange(-5,5.5,.5))\n",
    "plt.title('Distribution of Error over our Test Samples\\n(Negative error means we overestimated the rating, positive means underestimation.)')\n",
    "plt.xlabel('error')\n",
    "plt.ylabel('number of test samples')\n",
    "plt.xticks(np.arange(-5,6,1))\n",
    "plt.show()"
   ]
  },
  {
   "cell_type": "code",
   "execution_count": 190,
   "metadata": {},
   "outputs": [
    {
     "data": {
      "image/png": "[encoded data removed]",
      "text/plain": [
       "<matplotlib.figure.Figure at 0x7f4582089390>"
      ]
     },
     "metadata": {
      "needs_background": "light"
     },
     "output_type": "display_data"
    },
    {
     "name": "stdout",
     "output_type": "stream",
     "text": [
      "There is a 60.9 % chance of getting an absolute error <= 0.5\n",
      "There is a 83.1 % chance of getting an absolute error <= 1\n",
      "There is a 92.8 % chance of getting an absolute error <= 1.5\n",
      "There is a 96.9 % chance of getting an absolute error <= 2\n"
     ]
    }
   ],
   "source": [
    "distribution = hist[0]\n",
    "distribution /= sum(distribution)\n",
    "\n",
    "plt.bar(np.arange(-4.75,5,.5),distribution)\n",
    "plt.title('Probability Distribution of Error over our Test Samples')\n",
    "plt.xlabel('error')\n",
    "plt.ylabel('probability')\n",
    "plt.xticks(np.arange(-5,6,1))\n",
    "plt.show()\n",
    "\n",
    "rating_to_id = dict(zip(hist[1],range(len(hist[1]))))\n",
    "id_to_rating = dict(zip(range(len(hist[1])),hist[1]))\n",
    "\n",
    "# returns probability that our error is between -abs_rating and abs_rating\n",
    "def abs_proba(abs_rating):\n",
    "    interval = np.arange(-abs_rating,abs_rating+.1,.5)\n",
    "    return sum([distribution[rating_to_id[rating]] for rating in interval])\n",
    "\n",
    "for abs_error in [.5,1,1.5,2]:\n",
    "    proba = np.round(abs_proba(abs_error)*100,1)\n",
    "    print('There is a',proba,'% chance of getting an absolute error <=',abs_error)"
   ]
  },
  {
   "cell_type": "markdown",
   "metadata": {},
   "source": [
    "## Adding Basic Deep Learning to the Equation...\n",
    "\n",
    "... because otherwise who's even having any fun? \n",
    "\n",
    "Our model isn't that bad as is. \n",
    "\n",
    "With K = 3, lr = .01, and split = .9, 4 out of 5 times, our predictions are less than 1 point away. A little under 2 out of 3 times, they're less than half a point away. \n",
    "\n",
    "But there are still ways to improve on this. We have obtained -- through matrix factorization -- latent representations of both our users and our movies. It might be interesting to plug in a neural net, and feed it the user + movie representations as inputs, and the ratings as targets. We have also learnt the user and movie biases, so it's now easy to substract them from our ratings to normalize them. "
   ]
  },
  {
   "cell_type": "markdown",
   "metadata": {},
   "source": [
    "### Pre-Processing\n",
    "\n",
    "The first step is to get an input / target format for the data. "
   ]
  },
  {
   "cell_type": "code",
   "execution_count": 191,
   "metadata": {},
   "outputs": [
    {
     "name": "stdout",
     "output_type": "stream",
     "text": [
      "90000 training samples ready\n",
      "10000 testing samples ready\n"
     ]
    }
   ],
   "source": [
    "def extract_x_y(local_entries):\n",
    "    x,y = list(),list()\n",
    "    for user,movie in local_entries:\n",
    "        x.append(np.concatenate((p[user],q[movie])))\n",
    "        biases = user_bias[user] + movie_bias[movie] + average_rating\n",
    "        y.append(data[user,movie] - biases)\n",
    "    return np.array(x),np.array(y)\n",
    "        \n",
    "x_tr,y_tr = extract_x_y(train_entries)\n",
    "x_te,y_te = extract_x_y(test_entries)\n",
    "print(len(x_tr),'training samples ready')\n",
    "print(len(x_te),'testing samples ready')"
   ]
  },
  {
   "cell_type": "markdown",
   "metadata": {},
   "source": [
    "### Training and Testing\n",
    "\n",
    "What we're doing here is regression (obviously), so we'll use the sklearn implementation of MLPs for regression. We're keeping it pretty simple, only changing the activation function to tanh. "
   ]
  },
  {
   "cell_type": "code",
   "execution_count": 198,
   "metadata": {},
   "outputs": [
    {
     "name": "stdout",
     "output_type": "stream",
     "text": [
      "Multi Layer Perceptron ready in 97.49032974243164 seconds\n",
      "Predictions made in 0.36743998527526855 seconds\n",
      "Training error: 0.5767324760211318\n",
      "Testing error: 0.7544240941519152\n"
     ]
    }
   ],
   "source": [
    "from sklearn.neural_network import MLPRegressor\n",
    "\n",
    "mlp = MLPRegressor(hidden_layer_sizes=(100,),activation='tanh',alpha=.1)\n",
    "start = time.time()\n",
    "mlp.fit(x_tr,y_tr)\n",
    "print('Multi Layer Perceptron ready in',time.time()-start,'seconds')\n",
    "\n",
    "start = time.time()\n",
    "predictions_train = mlp.predict(x_tr)\n",
    "predictions_test = mlp.predict(x_te)\n",
    "print('Predictions made in',time.time()-start,'seconds')\n",
    "\n",
    "def mlp_mean_absolute_error(predictions,labels):\n",
    "    error = 0\n",
    "    for i in range(len(predictions)):\n",
    "        error += abs(labels[i]-predictions[i])\n",
    "    return error/len(predictions)\n",
    "\n",
    "print('Training error:',mlp_mean_absolute_error(predictions_train,y_tr))\n",
    "print('Testing error:',mlp_mean_absolute_error(predictions_test,y_te))"
   ]
  },
  {
   "cell_type": "code",
   "execution_count": null,
   "metadata": {},
   "outputs": [],
   "source": []
  }
 ],
 "metadata": {
  "kernelspec": {
   "display_name": "Python 3",
   "language": "python",
   "name": "python3"
  },
  "language_info": {
   "codemirror_mode": {
    "name": "ipython",
    "version": 3
   },
   "file_extension": ".py",
   "mimetype": "text/x-python",
   "name": "python",
   "nbconvert_exporter": "python",
   "pygments_lexer": "ipython3",
   "version": "3.5.2"
  }
 },
 "nbformat": 4,
 "nbformat_minor": 2
}
